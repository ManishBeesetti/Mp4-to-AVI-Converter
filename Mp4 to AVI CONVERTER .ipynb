{
 "cells": [
  {
   "cell_type": "code",
   "execution_count": 1,
   "metadata": {},
   "outputs": [],
   "source": [
    "import os\n",
    "import glob\n",
    "import ntpath\n",
    "import sys"
   ]
  },
  {
   "cell_type": "code",
   "execution_count": 2,
   "metadata": {},
   "outputs": [],
   "source": [
    "def convert_mp4_to_avi(file_name, output_directory):\n",
    "    input_name = file_name\n",
    "    output_name = ntpath.basename(file_name)\n",
    "    output = output_directory + output_name.replace('.mp4', '.avi', 1)\n",
    "    cmd = 'ffmpeg -i \"{input}\" -c:v libx264 -c:a libmp3lame -b:a 384K \"{output}\"'.format(\n",
    "                                                    input = input_name, \n",
    "                                                    output = output)\n",
    "    return os.popen(cmd)"
   ]
  },
  {
   "cell_type": "code",
   "execution_count": 3,
   "metadata": {},
   "outputs": [],
   "source": [
    "def main():\n",
    "    input_directory = \" \"\n",
    "    output_directory = \" \"\n",
    "    files = glob.glob(input_directory + '*.mp4')\n",
    "    for file_name in files:\n",
    "        try:\n",
    "            convert_mp4_to_avi(file_name, output_directory)\n",
    "        except:\n",
    "            raise\n",
    "\n",
    "if __name__ == \"__main__\":\n",
    "   main()"
   ]
  },
  {
   "cell_type": "code",
   "execution_count": null,
   "metadata": {},
   "outputs": [],
   "source": []
  }
 ],
 "metadata": {
  "kernelspec": {
   "display_name": "Python 3",
   "language": "python",
   "name": "python3"
  },
  "language_info": {
   "codemirror_mode": {
    "name": "ipython",
    "version": 3
   },
   "file_extension": ".py",
   "mimetype": "text/x-python",
   "name": "python",
   "nbconvert_exporter": "python",
   "pygments_lexer": "ipython3",
   "version": "3.8.3"
  }
 },
 "nbformat": 4,
 "nbformat_minor": 4
}
